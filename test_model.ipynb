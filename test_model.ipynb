{
 "cells": [
  {
   "cell_type": "code",
   "execution_count": 51,
   "metadata": {},
   "outputs": [
    {
     "name": "stdout",
     "output_type": "stream",
     "text": [
      "The autoreload extension is already loaded. To reload it, use:\n",
      "  %reload_ext autoreload\n"
     ]
    }
   ],
   "source": [
    "%load_ext autoreload\n",
    "%autoreload 2\n",
    "from model import my_simple_model, efficient_net_modified, my_simple_model2, resnet18_modified\n",
    "\n",
    "model1 = my_simple_model.load_mysimplemodel(\"./checkpoints/my-simple/my-simple_1.pth\")\n",
    "model2 = efficient_net_modified.load_efficientnetmodified(\"./checkpoints/new-eff/new-eff_11.pth\")\n",
    "model3 = my_simple_model2.load_mysimplemodel2(\"./checkpoints/my-shitty-model/my-shitty-model2_4_(92.9).pth\")\n",
    "model4 = resnet18_modified.load_resnet18modified(\"./checkpoints/resnet18/my-model2_5_(94.4).pth\")\n"
   ]
  },
  {
   "cell_type": "code",
   "execution_count": 3,
   "metadata": {},
   "outputs": [],
   "source": [
    "def count_parameters(model):\n",
    "    return sum(p.numel() for p in model.parameters() if p.requires_grad)"
   ]
  },
  {
   "cell_type": "code",
   "execution_count": 9,
   "metadata": {},
   "outputs": [
    {
     "name": "stdout",
     "output_type": "stream",
     "text": [
      "model1 118046270\n",
      "model2 17602406\n",
      "model3 5507614\n"
     ]
    }
   ],
   "source": [
    "print(\"model1\",count_parameters(model1))\n",
    "print(\"model2\",count_parameters(model2))\n",
    "print(\"model3\",count_parameters(model3))"
   ]
  },
  {
   "cell_type": "code",
   "execution_count": 53,
   "metadata": {},
   "outputs": [],
   "source": [
    "from train import test_model_with_error_record\n",
    "from datareader.dataset import GameScreenShotDataset\n",
    "from torchvision import transforms as T\n",
    "\n",
    "transform = T.Compose([\n",
    "    T.Resize((180,320)),\n",
    "    T.ToTensor(),\n",
    "    T.Normalize(mean=[0.5, 0.5, 0.5], std=[0.5, 0.5, 0.5]),\n",
    "])\n",
    "\n",
    "transform_resnet = T.Compose([\n",
    "    T.Resize((224, 224)),  # ResNet-18 expects 224x224 images\n",
    "    T.ToTensor(),\n",
    "    T.Normalize(mean=[0.485, 0.456, 0.406], std=[0.229, 0.224, 0.225]),\n",
    "])\n",
    "\n",
    "# test_dataset = GameScreenShotDataset(\"./dataset/processed/test\",transform)\n",
    "test_dataset_resnet = GameScreenShotDataset(\"./dataset/processed/test\",transform)"
   ]
  },
  {
   "cell_type": "code",
   "execution_count": 29,
   "metadata": {},
   "outputs": [
    {
     "name": "stdout",
     "output_type": "stream",
     "text": [
      "3000\n"
     ]
    }
   ],
   "source": [
    "print(len(test_dataset))"
   ]
  },
  {
   "cell_type": "code",
   "execution_count": 54,
   "metadata": {},
   "outputs": [
    {
     "name": "stderr",
     "output_type": "stream",
     "text": [
      "                                                               \r"
     ]
    },
    {
     "data": {
      "text/plain": [
       "(0.3360958735458172,\n",
       " 91.78666666666666,\n",
       " {0: 4,\n",
       "  1: 22,\n",
       "  2: 9,\n",
       "  3: 31,\n",
       "  4: 36,\n",
       "  5: 6,\n",
       "  6: 10,\n",
       "  7: 43,\n",
       "  8: 4,\n",
       "  9: 1,\n",
       "  10: 15,\n",
       "  11: 37,\n",
       "  12: 110,\n",
       "  13: 84,\n",
       "  14: 97,\n",
       "  15: 154,\n",
       "  16: 65,\n",
       "  17: 68,\n",
       "  18: 26,\n",
       "  19: 27,\n",
       "  20: 2,\n",
       "  21: 2,\n",
       "  22: 21,\n",
       "  23: 29,\n",
       "  24: 7,\n",
       "  25: 25,\n",
       "  26: 84,\n",
       "  27: 59,\n",
       "  28: 91,\n",
       "  29: 63})"
      ]
     },
     "execution_count": 54,
     "metadata": {},
     "output_type": "execute_result"
    }
   ],
   "source": [
    "test_model_with_error_record(model3, test_dataset_resnet, batch_size=1, dataloader_num_workers=8, seed=0)\n"
   ]
  }
 ],
 "metadata": {
  "kernelspec": {
   "display_name": "taiko-ai",
   "language": "python",
   "name": "python3"
  },
  "language_info": {
   "codemirror_mode": {
    "name": "ipython",
    "version": 3
   },
   "file_extension": ".py",
   "mimetype": "text/x-python",
   "name": "python",
   "nbconvert_exporter": "python",
   "pygments_lexer": "ipython3",
   "version": "3.11.7"
  }
 },
 "nbformat": 4,
 "nbformat_minor": 2
}
