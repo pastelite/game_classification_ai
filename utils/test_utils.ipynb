{
 "cells": [
  {
   "cell_type": "code",
   "execution_count": 1,
   "metadata": {},
   "outputs": [],
   "source": [
    "%load_ext autoreload\n",
    "%autoreload 2"
   ]
  },
  {
   "cell_type": "code",
   "execution_count": 27,
   "metadata": {},
   "outputs": [
    {
     "name": "stdout",
     "output_type": "stream",
     "text": [
      "Downloading https://www.youtube.com/watch?v=9bZkp7q19f0 to testname\n",
      " ↳ |████████████████████████████████████████████| 100.0%\r"
     ]
    }
   ],
   "source": [
    "import downloader\n",
    "\n",
    "# downloader.YouTubeDownloader().download('https://www.youtube.com/watch?v=9bZkp7q19f0','testname')\n",
    "downloader.download_youtube_video('https://www.youtube.com/watch?v=9bZkp7q19f0','testname',show_progress=True)"
   ]
  },
  {
   "cell_type": "code",
   "execution_count": 31,
   "metadata": {},
   "outputs": [
    {
     "name": "stderr",
     "output_type": "stream",
     "text": [
      "testname [6039/6046]: 100%|██████████| 10/10 [00:00<00:00, 29.39it/s, n=10]\n"
     ]
    },
    {
     "data": {
      "text/plain": [
       "(10, 6046, 671)"
      ]
     },
     "execution_count": 31,
     "metadata": {},
     "output_type": "execute_result"
    },
    {
     "ename": "",
     "evalue": "",
     "output_type": "error",
     "traceback": [
      "\u001b[1;31mThe Kernel crashed while executing code in the current cell or a previous cell. \n",
      "\u001b[1;31mPlease review the code in the cell(s) to identify a possible cause of the failure. \n",
      "\u001b[1;31mClick <a href='https://aka.ms/vscodeJupyterKernelCrash'>here</a> for more info. \n",
      "\u001b[1;31mView Jupyter <a href='command:jupyter.viewOutput'>log</a> for further details."
     ]
    }
   ],
   "source": [
    "import extractor\n",
    "\n",
    "# extractor.extract_frames_interval('./testname.mp4','./frames/',interval=30)\n",
    "extractor.extract_frames_n('./testname.mp4','./frames/',n=10)\n",
    "# extractor.extract_frames_time_interval('./testname.mp4','./frames/',interval=1000)"
   ]
  }
 ],
 "metadata": {
  "kernelspec": {
   "display_name": "taiko-ai",
   "language": "python",
   "name": "python3"
  },
  "language_info": {
   "codemirror_mode": {
    "name": "ipython",
    "version": 3
   },
   "file_extension": ".py",
   "mimetype": "text/x-python",
   "name": "python",
   "nbconvert_exporter": "python",
   "pygments_lexer": "ipython3",
   "version": "3.11.7"
  }
 },
 "nbformat": 4,
 "nbformat_minor": 2
}
