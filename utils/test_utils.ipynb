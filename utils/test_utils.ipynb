{
 "cells": [
  {
   "cell_type": "code",
   "execution_count": 1,
   "metadata": {},
   "outputs": [],
   "source": [
    "%load_ext autoreload\n",
    "%autoreload 2"
   ]
  },
  {
   "cell_type": "code",
   "execution_count": 27,
   "metadata": {},
   "outputs": [
    {
     "name": "stdout",
     "output_type": "stream",
     "text": [
      "Downloading https://www.youtube.com/watch?v=9bZkp7q19f0 to testname\n",
      " ↳ |████████████████████████████████████████████| 100.0%\r"
     ]
    }
   ],
   "source": [
    "import downloader\n",
    "\n",
    "# downloader.YouTubeDownloader().download('https://www.youtube.com/watch?v=9bZkp7q19f0','testname')\n",
    "downloader.download_youtube_video('https://www.youtube.com/watch?v=9bZkp7q19f0','testname',show_progress=True)"
   ]
  },
  {
   "cell_type": "code",
   "execution_count": 31,
   "metadata": {},
   "outputs": [
    {
     "name": "stderr",
     "output_type": "stream",
     "text": [
      "testname [6039/6046]: 100%|██████████| 10/10 [00:00<00:00, 29.39it/s, n=10]\n"
     ]
    },
    {
     "data": {
      "text/plain": [
       "(10, 6046, 671)"
      ]
     },
     "execution_count": 31,
     "metadata": {},
     "output_type": "execute_result"
    }
   ],
   "source": [
    "import extractor\n",
    "\n",
    "# extractor.extract_frames_interval('./testname.mp4','./frames/',interval=30)\n",
    "extractor.extract_n_frames('./testname.mp4','./frames/',n=10)\n",
    "# extractor.extract_frames_time_interval('./testname.mp4','./frames/',interval=1000)"
   ]
  }
 ],
 "metadata": {
  "kernelspec": {
   "display_name": "taiko-ai",
   "language": "python",
   "name": "python3"
  },
  "language_info": {
   "codemirror_mode": {
    "name": "ipython",
    "version": 3
   },
   "file_extension": ".py",
   "mimetype": "text/x-python",
   "name": "python",
   "nbconvert_exporter": "python",
   "pygments_lexer": "ipython3",
   "version": "3.11.7"
  }
 },
 "nbformat": 4,
 "nbformat_minor": 2
}
