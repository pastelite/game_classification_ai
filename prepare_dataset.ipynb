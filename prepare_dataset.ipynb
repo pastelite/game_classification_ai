{
 "cells": [
  {
   "cell_type": "code",
   "execution_count": 4,
   "metadata": {},
   "outputs": [],
   "source": [
    "from dataset.label import games_list, GameLabel as G\n",
    "# ^ Check the list of game we will use there\n",
    "\n",
    "# Stored it as url to make it easy to check using ctrl+click\n",
    "youtube_videos_to_download = [\n",
    "    (G.VALORANT, \"https://www.youtube.com/watch?v=c6J3qBT0AXo\"), # 10 hours\n",
    "    (G.VALORANT, \"https://youtu.be/2LnFuREmbpk\"), # Lotus\n",
    "    (G.VALORANT, \"https://www.youtube.com/watch?v=eBGR9pptPb8\"), # Fracture\n",
    "    (G.VALORANT, \"https://www.youtube.com/watch?v=DQqXOLPyWDU\"), # Haven\n",
    "]"
   ]
  },
  {
   "cell_type": "code",
   "execution_count": 5,
   "metadata": {},
   "outputs": [
    {
     "name": "stdout",
     "output_type": "stream",
     "text": [
      "Downloading video 2LnFuREmbpk for game VALORANT\n",
      "Skipping 2LnFuREmbpk as it is already downloaded\n"
     ]
    }
   ],
   "source": [
    "from utils import downloader, extractor\n",
    "from pathlib import Path\n",
    "from pytube import YouTube\n",
    "\n",
    "for i, url in youtube_videos_to_download:\n",
    "    youtube_id = YouTube(url).video_id # convert url back to youtube id\n",
    "    \n",
    "    print(f\"Downloading video {youtube_id} for game {i.name}\")\n",
    "    if Path(f\"dataset/raw/{i.name}/frames/{youtube_id}\").exists():\n",
    "        print(f\"Skipping {youtube_id} as it is already downloaded\")\n",
    "        continue\n",
    "    downloader.download_youtube_video(\n",
    "        f\"https://youtu.be/{youtube_id}\",\n",
    "        f\"dataset/raw/{i.name}/youtube_vid/{youtube_id}.mp4\",\n",
    "    )\n",
    "    extractor.extract_frames(\n",
    "        f\"dataset/raw/{i.name}/youtube_vid/{youtube_id}.mp4\",\n",
    "        f\"dataset/raw/{i.name}/frames/{youtube_id}/\",\n",
    "        interval_ms=1000, # make sure data is not too big\n",
    "    )"
   ]
  }
 ],
 "metadata": {
  "kernelspec": {
   "display_name": "taiko-ai",
   "language": "python",
   "name": "python3"
  },
  "language_info": {
   "codemirror_mode": {
    "name": "ipython",
    "version": 3
   },
   "file_extension": ".py",
   "mimetype": "text/x-python",
   "name": "python",
   "nbconvert_exporter": "python",
   "pygments_lexer": "ipython3",
   "version": "3.11.7"
  }
 },
 "nbformat": 4,
 "nbformat_minor": 2
}
