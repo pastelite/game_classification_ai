{
 "cells": [
  {
   "cell_type": "code",
   "execution_count": 1,
   "metadata": {},
   "outputs": [],
   "source": [
    "from dataset.label import games_list\n",
    "# ^ Check the list of game we will use there "
   ]
  },
  {
   "cell_type": "code",
   "execution_count": 4,
   "metadata": {},
   "outputs": [
    {
     "name": "stdout",
     "output_type": "stream",
     "text": [
      "Output directory dataset/raw/VALORANT/frames/2LnFuREmbpk/ does not exist. creating...\n",
      "Extracted 56158 frames at 1000ms interval\n"
     ]
    }
   ],
   "source": [
    "from utils import downloader, extractor\n",
    "from pathlib import Path\n",
    "\n",
    "youtube_videos_to_download = [(0, \"2LnFuREmbpk\")]\n",
    "\n",
    "for i, youtube_id in youtube_videos_to_download:\n",
    "    print(f\"Downloading video {youtube_id} for game {games_list[i]}\")\n",
    "    if Path(f\"dataset/raw/{games_list[i]}/frames/{youtube_id}\").exists():\n",
    "        print(f\"Skipping {youtube_id} as it is already downloaded\")\n",
    "        continue\n",
    "    downloader.download_youtube_video(\n",
    "        f\"https://youtu.be/{youtube_id}\",\n",
    "        f\"dataset/raw/{games_list[i]}/youtube_vid/{youtube_id}.mp4\",\n",
    "    )\n",
    "    extractor.extract_frames(\n",
    "        f\"dataset/raw/{games_list[i]}/youtube_vid/{youtube_id}.mp4\",\n",
    "        f\"dataset/raw/{games_list[i]}/frames/{youtube_id}/\",\n",
    "        interval_ms=1000, # make sure data is not too big\n",
    "    )"
   ]
  }
 ],
 "metadata": {
  "kernelspec": {
   "display_name": "taiko-ai",
   "language": "python",
   "name": "python3"
  },
  "language_info": {
   "codemirror_mode": {
    "name": "ipython",
    "version": 3
   },
   "file_extension": ".py",
   "mimetype": "text/x-python",
   "name": "python",
   "nbconvert_exporter": "python",
   "pygments_lexer": "ipython3",
   "version": "3.11.7"
  }
 },
 "nbformat": 4,
 "nbformat_minor": 2
}
