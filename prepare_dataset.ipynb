{
 "cells": [
  {
   "cell_type": "code",
   "execution_count": 1,
   "metadata": {},
   "outputs": [],
   "source": [
    "from dataset.label import GameLabel as G\n",
    "\n",
    "# ^ Check the list of game we will use there\n",
    "\n",
    "# Stored it as url to make it easy to check using ctrl+click\n",
    "youtube_videos_to_download = [\n",
    "    (G.VALORANT, \"https://www.youtube.com/watch?v=c6J3qBT0AXo\"),  # 10 hours\n",
    "    (G.VALORANT, \"https://youtu.be/2LnFuREmbpk\"),  # Lotus\n",
    "    (G.VALORANT, \"https://www.youtube.com/watch?v=eBGR9pptPb8\"),  # Fracture\n",
    "    (G.VALORANT, \"https://www.youtube.com/watch?v=DQqXOLPyWDU\"),  # Haven\n",
    "    (G.VALORANT, \"https://www.youtube.com/watch?v=n0STJgmCnU0\"),  # 10 hours\n",
    "    (G.COUNTER_STRIKE_GLOBAL_OFFENSIVE, \"https://www.youtube.com/watch?v=52GEkhsldoY\"),\n",
    "    (G.COUNTER_STRIKE_GLOBAL_OFFENSIVE, \"https://www.youtube.com/watch?v=nqllxVJ754E\"),\n",
    "    (G.COUNTER_STRIKE_GLOBAL_OFFENSIVE, \"https://www.youtube.com/watch?v=NmwL9FDVfvY\"),\n",
    "    (G.COUNTER_STRIKE_GLOBAL_OFFENSIVE, \"https://www.youtube.com/watch?v=8ulDHnZbE3E\"),\n",
    "    (G.COUNTER_STRIKE_GLOBAL_OFFENSIVE, \"https://www.youtube.com/watch?v=Zazaxy8fPQ8\"),\n",
    "    (G.COUNTER_STRIKE_2, \"https://www.youtube.com/watch?v=4h5prft88lE\"),\n",
    "    (G.COUNTER_STRIKE_2, \"https://www.youtube.com/watch?v=496fm0B5Iv0\"),\n",
    "    (G.COUNTER_STRIKE_2, \"https://www.youtube.com/watch?v=ODgxk6PYOz4\"),\n",
    "    (G.COUNTER_STRIKE_2, \"https://www.youtube.com/watch?v=MPeTocSMgPU\"),\n",
    "    (G.OVERWATCH_2, \"https://www.youtube.com/watch?v=IPE-3x3GFWw\"),\n",
    "    (G.OVERWATCH_2, \"https://www.youtube.com/watch?v=lkTHRdZzl1o\"),\n",
    "    (G.OVERWATCH_2, \"https://www.youtube.com/watch?v=WtvK1--XQ5U\"),\n",
    "    (G.OVERWATCH_2, \"https://www.youtube.com/watch?v=Ag6mDKrBu6I\"),\n",
    "    (G.CALL_OF_DUTY_WARZONE, \"https://www.youtube.com/watch?v=93N8Dfa9Xcc\"),\n",
    "    (G.CALL_OF_DUTY_WARZONE, \"https://www.youtube.com/watch?v=vql05Oo5GEE\"),\n",
    "    (G.CALL_OF_DUTY_WARZONE, \"https://www.youtube.com/watch?v=KlCzROTAos4\"),\n",
    "    (G.CALL_OF_DUTY_WARZONE, \"https://www.youtube.com/watch?v=AKXJBOJSZCA\"),\n",
    "    (G.CALL_OF_DUTY_WARZONE, \"https://www.youtube.com/watch?v=px-5YXnWDxs\"),\n",
    "    (G.TOM_CLANCY_RAINBOW_SIX_SIEGE, \"https://www.youtube.com/watch?v=9r-PX6kwFss\"),\n",
    "    (G.TOM_CLANCY_RAINBOW_SIX_SIEGE, \"https://www.youtube.com/watch?v=r7waDLS0qvs\"),\n",
    "    (G.TOM_CLANCY_RAINBOW_SIX_SIEGE, \"https://www.youtube.com/watch?v=_qRDXuz-H9g\"),\n",
    "    (G.TOM_CLANCY_RAINBOW_SIX_SIEGE, \"https://www.youtube.com/watch?v=Q5KzxCd2ZRk\"),\n",
    "    (G.TOM_CLANCY_RAINBOW_SIX_SIEGE, \"https://www.youtube.com/watch?v=rI2f9ETDab0\"),\n",
    "    (G.TOM_CLANCY_RAINBOW_SIX_SIEGE, \"https://www.youtube.com/watch?v=r26qpjb45z0\"),\n",
    "    (G.APEX_LEGENDS, \"https://www.youtube.com/watch?v=m8awXISvVpo\"),\n",
    "    (G.APEX_LEGENDS, \"https://www.youtube.com/watch?v=YYuhNfq_3CE\"),\n",
    "    (G.APEX_LEGENDS, \"https://www.youtube.com/watch?v=Lz843iY7ipc\"),\n",
    "    (G.APEX_LEGENDS, \"https://www.youtube.com/watch?v=IbAEZgQSXJI\"),\n",
    "    (G.APEX_LEGENDS, \"https://www.youtube.com/watch?v=AVq0_nPPUPQ\"),\n",
    "    (G.ESCAPE_FROM_TARKOV, \"https://www.youtube.com/watch?v=B0AE63Qpkvg\"),\n",
    "    (G.ESCAPE_FROM_TARKOV, \"https://www.youtube.com/watch?v=NfTm6qsHMrE\"),\n",
    "    (G.ESCAPE_FROM_TARKOV, \"https://www.youtube.com/watch?v=DsFy2QO34vQ\"),\n",
    "    (G.RUST, \"https://www.youtube.com/watch?v=yhZercQefe0\"),\n",
    "    (G.RUST, \"https://www.youtube.com/watch?v=gbs2egyvdW8\"),\n",
    "    (G.RUST, \"https://www.youtube.com/watch?v=lFioy0pR4t8\"),\n",
    "    (G.PUBG_BATTLEGROUNDS, \"https://www.youtube.com/watch?v=tpx1RLWTUV0\"),\n",
    "    (G.PUBG_BATTLEGROUNDS, \"https://www.youtube.com/watch?v=On-CEde0CTw\"),\n",
    "    (G.PUBG_BATTLEGROUNDS, \"https://www.youtube.com/watch?v=HV1rC2JBuaQ\"),\n",
    "    (G.PUBG_BATTLEGROUNDS, \"https://www.youtube.com/watch?v=esclgvbEx3o\"),\n",
    "    (G.PUBG_BATTLEGROUNDS, \"https://www.youtube.com/watch?v=EP0vLviMPYY\"),\n",
    "    (G.PUBG_BATTLEGROUNDS, \"https://www.youtube.com/watch?v=Iu4cC4hAorQ\"),\n",
    "    (G.OVERWATCH, \"https://www.youtube.com/watch?v=3LUM23eC_9Y\"),\n",
    "    # More video can be added here\n",
    "]\n",
    "num_data_per_game = 4000"
   ]
  },
  {
   "cell_type": "code",
   "execution_count": 3,
   "metadata": {},
   "outputs": [
    {
     "name": "stdout",
     "output_type": "stream",
     "text": [
      "== Downloading 4 videos for game VALORANT ==\n",
      "Downloading https://youtu.be/c6J3qBT0AXo to dataset/raw/VALORANT/youtube_vid/c6J3qBT0AXo.mp4\n"
     ]
    },
    {
     "name": "stderr",
     "output_type": "stream",
     "text": [
      "d:\\codes_uni\\ml\\game_detection\\utils\\downloader.py:37: UserWarning: Output directory dataset\\raw\\VALORANT\\youtube_vid does not exist. creating...\n",
      "  warnings.warn(f\"Output directory {path.parent} does not exist. creating...\")\n"
     ]
    },
    {
     "name": "stdout",
     "output_type": "stream",
     "text": [
      "Downloading https://youtu.be/2LnFuREmbpk to dataset/raw/VALORANT/youtube_vid/2LnFuREmbpk.mp4\n",
      "Downloading https://youtu.be/eBGR9pptPb8 to dataset/raw/VALORANT/youtube_vid/eBGR9pptPb8.mp4\n",
      "Downloading https://youtu.be/DQqXOLPyWDU to dataset/raw/VALORANT/youtube_vid/DQqXOLPyWDU.mp4\n",
      "Output directory dataset/raw/VALORANT/frames/c6J3qBT0AXo/ does not exist. creating...\n"
     ]
    },
    {
     "name": "stderr",
     "output_type": "stream",
     "text": [
      "c6J3qBT0AXo [1080640/1080670]: 100%|██████████| 3521/3521 [01:59<00:00, 29.40it/s, n=3521]\n"
     ]
    },
    {
     "name": "stdout",
     "output_type": "stream",
     "text": [
      "Output directory dataset/raw/VALORANT/frames/2LnFuREmbpk/ does not exist. creating...\n"
     ]
    },
    {
     "name": "stderr",
     "output_type": "stream",
     "text": [
      "2LnFuREmbpk [56110/56158]: 100%|██████████| 182/182 [00:05<00:00, 31.74it/s, n=182]\n"
     ]
    },
    {
     "name": "stdout",
     "output_type": "stream",
     "text": [
      "Output directory dataset/raw/VALORANT/frames/eBGR9pptPb8/ does not exist. creating...\n"
     ]
    },
    {
     "name": "stderr",
     "output_type": "stream",
     "text": [
      "eBGR9pptPb8 [75087/75180]: 100%|██████████| 244/244 [00:07<00:00, 31.65it/s, n=244]\n"
     ]
    },
    {
     "name": "stdout",
     "output_type": "stream",
     "text": [
      "Output directory dataset/raw/VALORANT/frames/DQqXOLPyWDU/ does not exist. creating...\n"
     ]
    },
    {
     "name": "stderr",
     "output_type": "stream",
     "text": [
      "DQqXOLPyWDU [18788/18818]: 100%|██████████| 62/62 [00:02<00:00, 26.56it/s, n=62]\n",
      "d:\\codes_uni\\ml\\game_detection\\utils\\downloader.py:37: UserWarning: Output directory dataset\\raw\\Counter_Strike_Global_Offensive\\youtube_vid does not exist. creating...\n",
      "  warnings.warn(f\"Output directory {path.parent} does not exist. creating...\")\n"
     ]
    },
    {
     "name": "stdout",
     "output_type": "stream",
     "text": [
      "== Downloading 5 videos for game Counter_Strike_Global_Offensive ==\n",
      "Downloading https://youtu.be/52GEkhsldoY to dataset/raw/Counter_Strike_Global_Offensive/youtube_vid/52GEkhsldoY.mp4\n",
      "Downloading https://youtu.be/nqllxVJ754E to dataset/raw/Counter_Strike_Global_Offensive/youtube_vid/nqllxVJ754E.mp4\n",
      "Downloading https://youtu.be/NmwL9FDVfvY to dataset/raw/Counter_Strike_Global_Offensive/youtube_vid/NmwL9FDVfvY.mp4\n",
      "Downloading https://youtu.be/8ulDHnZbE3E to dataset/raw/Counter_Strike_Global_Offensive/youtube_vid/8ulDHnZbE3E.mp4\n",
      "Downloading https://youtu.be/Zazaxy8fPQ8 to dataset/raw/Counter_Strike_Global_Offensive/youtube_vid/Zazaxy8fPQ8.mp4\n",
      "Output directory dataset/raw/Counter_Strike_Global_Offensive/frames/52GEkhsldoY/ does not exist. creating...\n"
     ]
    },
    {
     "name": "stderr",
     "output_type": "stream",
     "text": [
      "52GEkhsldoY [35340/35379]: 100%|██████████| 571/571 [00:18<00:00, 30.97it/s, n=571]\n"
     ]
    },
    {
     "name": "stdout",
     "output_type": "stream",
     "text": [
      "Output directory dataset/raw/Counter_Strike_Global_Offensive/frames/nqllxVJ754E/ does not exist. creating...\n"
     ]
    },
    {
     "name": "stderr",
     "output_type": "stream",
     "text": [
      "nqllxVJ754E [73842/73877]: 100%|██████████| 1192/1192 [00:37<00:00, 31.53it/s, n=1192]\n"
     ]
    },
    {
     "name": "stdout",
     "output_type": "stream",
     "text": [
      "Output directory dataset/raw/Counter_Strike_Global_Offensive/frames/NmwL9FDVfvY/ does not exist. creating...\n"
     ]
    },
    {
     "name": "stderr",
     "output_type": "stream",
     "text": [
      "NmwL9FDVfvY [63054/63083]: 100%|██████████| 1018/1018 [00:36<00:00, 27.86it/s, n=1018]\n"
     ]
    },
    {
     "name": "stdout",
     "output_type": "stream",
     "text": [
      "Output directory dataset/raw/Counter_Strike_Global_Offensive/frames/8ulDHnZbE3E/ does not exist. creating...\n"
     ]
    },
    {
     "name": "stderr",
     "output_type": "stream",
     "text": [
      "8ulDHnZbE3E [32984/33042]: 100%|██████████| 533/533 [00:19<00:00, 27.43it/s, n=533]\n"
     ]
    },
    {
     "name": "stdout",
     "output_type": "stream",
     "text": [
      "Output directory dataset/raw/Counter_Strike_Global_Offensive/frames/Zazaxy8fPQ8/ does not exist. creating...\n"
     ]
    },
    {
     "name": "stderr",
     "output_type": "stream",
     "text": [
      "Zazaxy8fPQ8 [43896/43906]: 100%|██████████| 709/709 [00:29<00:00, 23.69it/s, n=709]\n",
      "d:\\codes_uni\\ml\\game_detection\\utils\\downloader.py:37: UserWarning: Output directory dataset\\raw\\Counter_Strike_2\\youtube_vid does not exist. creating...\n",
      "  warnings.warn(f\"Output directory {path.parent} does not exist. creating...\")\n"
     ]
    },
    {
     "name": "stdout",
     "output_type": "stream",
     "text": [
      "== Downloading 4 videos for game Counter_Strike_2 ==\n",
      "Downloading https://youtu.be/4h5prft88lE to dataset/raw/Counter_Strike_2/youtube_vid/4h5prft88lE.mp4\n",
      "Downloading https://youtu.be/496fm0B5Iv0 to dataset/raw/Counter_Strike_2/youtube_vid/496fm0B5Iv0.mp4\n",
      "Downloading https://youtu.be/ODgxk6PYOz4 to dataset/raw/Counter_Strike_2/youtube_vid/ODgxk6PYOz4.mp4\n",
      "Downloading https://youtu.be/MPeTocSMgPU to dataset/raw/Counter_Strike_2/youtube_vid/MPeTocSMgPU.mp4\n",
      "Output directory dataset/raw/Counter_Strike_2/frames/4h5prft88lE/ does not exist. creating...\n"
     ]
    },
    {
     "name": "stderr",
     "output_type": "stream",
     "text": [
      "4h5prft88lE [51675/51719]: 100%|██████████| 796/796 [00:24<00:00, 32.09it/s, n=796]\n"
     ]
    },
    {
     "name": "stdout",
     "output_type": "stream",
     "text": [
      "Output directory dataset/raw/Counter_Strike_2/frames/496fm0B5Iv0/ does not exist. creating...\n"
     ]
    },
    {
     "name": "stderr",
     "output_type": "stream",
     "text": [
      "496fm0B5Iv0 [73190/73216]: 100%|██████████| 1127/1127 [00:36<00:00, 30.74it/s, n=1127]\n"
     ]
    },
    {
     "name": "stdout",
     "output_type": "stream",
     "text": [
      "Output directory dataset/raw/Counter_Strike_2/frames/ODgxk6PYOz4/ does not exist. creating...\n"
     ]
    },
    {
     "name": "stderr",
     "output_type": "stream",
     "text": [
      "ODgxk6PYOz4 [62920/62968]: 100%|██████████| 969/969 [00:33<00:00, 29.24it/s, n=969]\n"
     ]
    },
    {
     "name": "stdout",
     "output_type": "stream",
     "text": [
      "Output directory dataset/raw/Counter_Strike_2/frames/MPeTocSMgPU/ does not exist. creating...\n"
     ]
    },
    {
     "name": "stderr",
     "output_type": "stream",
     "text": [
      "MPeTocSMgPU [75075/75104]: 100%|██████████| 1156/1156 [00:37<00:00, 30.51it/s, n=1156]"
     ]
    },
    {
     "name": "stdout",
     "output_type": "stream",
     "text": [
      "== No videos for game Overwatch_2 ==\n",
      "== No videos for game Call_of_Duty_Warzone ==\n",
      "== No videos for game Tom_Clancy_Rainbow_Six_Siege ==\n",
      "== No videos for game Apex_Legends ==\n",
      "== No videos for game Escape_from_Tarkov ==\n",
      "== No videos for game Rust ==\n",
      "== No videos for game PUBG_BATTLEGROUNDS ==\n",
      "== No videos for game Overwatch ==\n",
      "== No videos for game Cyberpunk_2077 ==\n",
      "== No videos for game Call_of_Duty_Modern_Warfare_II ==\n",
      "== No videos for game Call_of_Duty_Black_Ops_Cold_War ==\n",
      "== No videos for game Call_of_Duty_Black_Ops_4 ==\n",
      "== No videos for game Dying_Light_2_Stay_Human ==\n",
      "== No videos for game Destiny_2 ==\n",
      "== No videos for game Call_of_Duty_Modern_Warfare_III ==\n",
      "== No videos for game Fallout_4 ==\n",
      "== No videos for game Halo_Infinite ==\n",
      "== No videos for game Team_Fortress_2 ==\n",
      "== No videos for game PAYDAY_2 ==\n",
      "== No videos for game Left_4_Dead_2 ==\n",
      "== No videos for game Battlefield_2042 ==\n",
      "== No videos for game Borderlands_2 ==\n",
      "== No videos for game Battlefield_V ==\n",
      "== No videos for game Titanfall_2 ==\n",
      "== No videos for game DOOM_Eternal ==\n",
      "== No videos for game Half_Life_2 ==\n",
      "== No videos for game Metro_Exodus ==\n"
     ]
    },
    {
     "name": "stderr",
     "output_type": "stream",
     "text": [
      "\n"
     ]
    }
   ],
   "source": [
    "from utils import downloader, extractor\n",
    "from pathlib import Path\n",
    "from pytube import YouTube\n",
    "\n",
    "for game in G:\n",
    "    # get all youtube video for this game\n",
    "    youtube_videos = [x[1] for x in youtube_videos_to_download if x[0] == game]\n",
    "\n",
    "    if len(youtube_videos) == 0:\n",
    "        print(f\"== No videos for game {game.name} ==\")\n",
    "        continue\n",
    "    else:\n",
    "        print(f\"== Downloading {len(youtube_videos)} videos for game {game.name} ==\")\n",
    "\n",
    "    # Download all video\n",
    "    combined_length = 0\n",
    "    video_length = []\n",
    "    for url in youtube_videos:\n",
    "        yt = YouTube(url)\n",
    "        youtube_id = yt.video_id\n",
    "        combined_length += yt.length\n",
    "        video_length.append(yt.length)\n",
    "\n",
    "        # print(f\"Downloading video {youtube_id} for game {game.name}\")\n",
    "        if Path(f\"dataset/raw/{game.name}/frames/{youtube_id}\").exists():\n",
    "            print(f\"Skipping {youtube_id} as it is already downloaded\")\n",
    "            continue\n",
    "        downloader.download_youtube_video(\n",
    "            f\"https://youtu.be/{youtube_id}\",\n",
    "            f\"dataset/raw/{game.name}/youtube_vid/{youtube_id}.mp4\",\n",
    "            show_progress=True,\n",
    "        )\n",
    "\n",
    "    # Calculate number of frames to extract per video\n",
    "    num_frames_per_video = [\n",
    "        video_length[i] * num_data_per_game // combined_length\n",
    "        for i in range(len(video_length))\n",
    "    ]\n",
    "    if sum(num_frames_per_video) != num_data_per_game:\n",
    "        # Add/Remove the remaining frames to the last video\n",
    "        num_frames_per_video[-1] += num_data_per_game - sum(num_frames_per_video)\n",
    "    # print(num_frames_per_video)\n",
    "\n",
    "    # Extract frames\n",
    "    # print(video_length, combined_length)\n",
    "    for i, url in enumerate(youtube_videos):\n",
    "        youtube_id = YouTube(url).video_id\n",
    "        frame_n = num_frames_per_video[i]\n",
    "\n",
    "        # print(f\"Extracting {frame_n} frames from {youtube_id} for game {game.name}\")\n",
    "        n_extracted, n_total_frames, n_interval = extractor.extract_n_frames(\n",
    "            f\"dataset/raw/{game.name}/youtube_vid/{youtube_id}.mp4\",\n",
    "            f\"dataset/raw/{game.name}/frames/{youtube_id}/\",\n",
    "            n=frame_n,\n",
    "        )\n",
    "        # print(f\"Extracted {frame_n} frames from {youtube_id} for game {game.name}\")\n",
    "        # print(f\"Extracted {n_extracted} frames from {youtube_id} for game {game.name} ({n_total_frames} frames, interval={n_interval})\")"
   ]
  }
 ],
 "metadata": {
  "kernelspec": {
   "display_name": "taiko-ai",
   "language": "python",
   "name": "python3"
  },
  "language_info": {
   "codemirror_mode": {
    "name": "ipython",
    "version": 3
   },
   "file_extension": ".py",
   "mimetype": "text/x-python",
   "name": "python",
   "nbconvert_exporter": "python",
   "pygments_lexer": "ipython3",
   "version": "3.11.7"
  }
 },
 "nbformat": 4,
 "nbformat_minor": 2
}
