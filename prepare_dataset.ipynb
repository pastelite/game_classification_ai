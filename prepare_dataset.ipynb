{
 "cells": [
  {
   "cell_type": "code",
   "execution_count": 1,
   "metadata": {},
   "outputs": [],
   "source": [
    "from dataset.label import GameLabel as G\n",
    "\n",
    "# ^ Check the list of game we will use there\n",
    "\n",
    "# Stored it as url to make it easy to check using ctrl+click\n",
    "youtube_videos_to_download = [\n",
    "    (G.VALORANT, \"https://www.youtube.com/watch?v=c6J3qBT0AXo\"),  # 10 hours\n",
    "    (G.VALORANT, \"https://youtu.be/2LnFuREmbpk\"),  # Lotus\n",
    "    (G.VALORANT, \"https://www.youtube.com/watch?v=eBGR9pptPb8\"),  # Fracture\n",
    "    (G.VALORANT, \"https://www.youtube.com/watch?v=DQqXOLPyWDU\"),  # Haven\n",
    "    (G.VALORANT, \"https://www.youtube.com/watch?v=n0STJgmCnU0\"),  # 10 hours\n",
    "    (G.COUNTER_STRIKE_GLOBAL_OFFENSIVE, \"https://www.youtube.com/watch?v=52GEkhsldoY\"),\n",
    "    (G.COUNTER_STRIKE_GLOBAL_OFFENSIVE, \"https://www.youtube.com/watch?v=nqllxVJ754E\"),\n",
    "    (G.COUNTER_STRIKE_GLOBAL_OFFENSIVE, \"https://www.youtube.com/watch?v=NmwL9FDVfvY\"),\n",
    "    (G.COUNTER_STRIKE_GLOBAL_OFFENSIVE, \"https://www.youtube.com/watch?v=8ulDHnZbE3E\"),\n",
    "    (G.COUNTER_STRIKE_GLOBAL_OFFENSIVE, \"https://www.youtube.com/watch?v=Zazaxy8fPQ8\"),\n",
    "    (G.COUNTER_STRIKE_2, \"https://www.youtube.com/watch?v=4h5prft88lE\"),\n",
    "    (G.COUNTER_STRIKE_2, \"https://www.youtube.com/watch?v=496fm0B5Iv0\"),\n",
    "    (G.COUNTER_STRIKE_2, \"https://www.youtube.com/watch?v=ODgxk6PYOz4\"),\n",
    "    (G.COUNTER_STRIKE_2, \"https://www.youtube.com/watch?v=MPeTocSMgPU\"),\n",
    "    (G.OVERWATCH_2, \"https://www.youtube.com/watch?v=IPE-3x3GFWw\"),\n",
    "    (G.OVERWATCH_2, \"https://www.youtube.com/watch?v=lkTHRdZzl1o\"),\n",
    "    (G.OVERWATCH_2, \"https://www.youtube.com/watch?v=WtvK1--XQ5U\"),\n",
    "    (G.OVERWATCH_2, \"https://www.youtube.com/watch?v=Ag6mDKrBu6I\"),\n",
    "    (G.CALL_OF_DUTY_WARZONE, \"https://www.youtube.com/watch?v=93N8Dfa9Xcc\"),\n",
    "    (G.CALL_OF_DUTY_WARZONE, \"https://www.youtube.com/watch?v=vql05Oo5GEE\"),\n",
    "    (G.CALL_OF_DUTY_WARZONE, \"https://www.youtube.com/watch?v=KlCzROTAos4\"),\n",
    "    (G.CALL_OF_DUTY_WARZONE, \"https://www.youtube.com/watch?v=AKXJBOJSZCA\"),\n",
    "    (G.CALL_OF_DUTY_WARZONE, \"https://www.youtube.com/watch?v=px-5YXnWDxs\"),\n",
    "    (G.TOM_CLANCY_RAINBOW_SIX_SIEGE, \"https://www.youtube.com/watch?v=9r-PX6kwFss\"),\n",
    "    (G.TOM_CLANCY_RAINBOW_SIX_SIEGE, \"https://www.youtube.com/watch?v=r7waDLS0qvs\"),\n",
    "    (G.TOM_CLANCY_RAINBOW_SIX_SIEGE, \"https://www.youtube.com/watch?v=_qRDXuz-H9g\"),\n",
    "    (G.TOM_CLANCY_RAINBOW_SIX_SIEGE, \"https://www.youtube.com/watch?v=Q5KzxCd2ZRk\"),\n",
    "    (G.TOM_CLANCY_RAINBOW_SIX_SIEGE, \"https://www.youtube.com/watch?v=rI2f9ETDab0\"),\n",
    "    (G.TOM_CLANCY_RAINBOW_SIX_SIEGE, \"https://www.youtube.com/watch?v=r26qpjb45z0\"),\n",
    "    (G.APEX_LEGENDS, \"https://www.youtube.com/watch?v=m8awXISvVpo\"),\n",
    "    (G.APEX_LEGENDS, \"https://www.youtube.com/watch?v=YYuhNfq_3CE\"),\n",
    "    (G.APEX_LEGENDS, \"https://www.youtube.com/watch?v=Lz843iY7ipc\"),\n",
    "    (G.APEX_LEGENDS, \"https://www.youtube.com/watch?v=IbAEZgQSXJI\"),\n",
    "    (G.APEX_LEGENDS, \"https://www.youtube.com/watch?v=AVq0_nPPUPQ\"),\n",
    "    (G.ESCAPE_FROM_TARKOV, \"https://www.youtube.com/watch?v=B0AE63Qpkvg\"),\n",
    "    (G.ESCAPE_FROM_TARKOV, \"https://www.youtube.com/watch?v=NfTm6qsHMrE\"),\n",
    "    (G.ESCAPE_FROM_TARKOV, \"https://www.youtube.com/watch?v=DsFy2QO34vQ\"),\n",
    "    (G.RUST, \"https://www.youtube.com/watch?v=yhZercQefe0\"),\n",
    "    (G.RUST, \"https://www.youtube.com/watch?v=gbs2egyvdW8\"),\n",
    "    (G.RUST, \"https://www.youtube.com/watch?v=IHH5exBzJ0I\"),\n",
    "    (G.PUBG_BATTLEGROUNDS, \"https://www.youtube.com/watch?v=tpx1RLWTUV0\"),\n",
    "    (G.PUBG_BATTLEGROUNDS, \"https://www.youtube.com/watch?v=On-CEde0CTw\"),\n",
    "    (G.PUBG_BATTLEGROUNDS, \"https://www.youtube.com/watch?v=HV1rC2JBuaQ\"),\n",
    "    (G.PUBG_BATTLEGROUNDS, \"https://www.youtube.com/watch?v=esclgvbEx3o\"),\n",
    "    (G.PUBG_BATTLEGROUNDS, \"https://www.youtube.com/watch?v=EP0vLviMPYY\"),\n",
    "    (G.PUBG_BATTLEGROUNDS, \"https://www.youtube.com/watch?v=Iu4cC4hAorQ\"),\n",
    "    (G.OVERWATCH, \"https://www.youtube.com/watch?v=3LUM23eC_9Y\"),\n",
    "    (G.OVERWATCH, \"https://www.youtube.com/watch?v=bJuthbMQzew\"),\n",
    "    (G.CYBERPUNK_2077, \"https://www.youtube.com/watch?v=hA55WshsKvg\"),\n",
    "    (G.CYBERPUNK_2077, \"https://www.youtube.com/watch?v=lEAJs12_ZfE\"),\n",
    "    (G.CALL_OF_DUTY_MODERN_WARFARE_II, \"https://www.youtube.com/watch?v=_74yzN4lf3w\"),\n",
    "    (G.CALL_OF_DUTY_BLACK_OPS_COLD_WAR, \"https://www.youtube.com/watch?v=OLhxoncGWDA\"),\n",
    "    (G.CALL_OF_DUTY_BLACK_OPS_COLD_WAR, \"https://www.youtube.com/watch?v=gr7RY9-KNJE\"),\n",
    "    (G.CALL_OF_DUTY_BLACK_OPS_4, \"https://www.youtube.com/watch?v=IGbxaCKykhQ\"),\n",
    "    (G.DYING_LIGHT_2_STAY_HUMAN, \"https://www.youtube.com/watch?v=Ow0xcOL2ErY\"),\n",
    "    (G.DESTINY_2, \"https://www.youtube.com/watch?v=rRxQA1jsK2g\"),\n",
    "    (G.CALL_OF_DUTY_MODERN_WARFARE_III, \"https://www.youtube.com/watch?v=MBtlU-yt6ZQ\"),\n",
    "    (G.FALLOUT_4, \"https://www.youtube.com/watch?v=EgbJEC_RLow\"),\n",
    "    (G.HALO_INFINITE, \"https://www.youtube.com/watch?v=fEyuABQ9vFA\"),\n",
    "    (G.TEAM_FORTRESS_2, \"https://www.youtube.com/watch?v=7wjs0Q3FLhU\"),\n",
    "    (G.TEAM_FORTRESS_2, \"https://www.youtube.com/watch?v=u6QYRtc5P6w\"),\n",
    "    (G.PAYDAY_2, \"https://www.youtube.com/watch?v=lQ3oo4d7J0M\"),\n",
    "    (G.LEFT_4_DEAD_2, \"https://www.youtube.com/watch?v=Psjq5teBvDk\"),\n",
    "    (G.BATTLEFIELD_2042, \"https://www.youtube.com/watch?v=YgtPDQxClNc\"),\n",
    "    (G.BORDERLANDS_2, \"https://www.youtube.com/watch?v=ggqgIO4De3Y\"),\n",
    "    (G.BATTLEFIELD_V, \"https://www.youtube.com/watch?v=QgKkQ8ToRpM\"),\n",
    "    (G.BATTLEFIELD_V, \"https://www.youtube.com/watch?v=kZZos0z-yCU\"),\n",
    "    (G.TITANFALL_2, \"https://www.youtube.com/watch?v=GlSL0wfCBQM\"),\n",
    "    (G.TITANFALL_2, \"https://www.youtube.com/watch?v=DLXwAs4HbmQ\"),\n",
    "    (G.DOOM_ETERNAL, \"https://www.youtube.com/watch?v=3CWzCwCmHho\"),\n",
    "    (G.HALF_LIFE_2, \"https://www.youtube.com/watch?v=OL8HtZ4iSS0\"),\n",
    "    (G.METRO_EXODUS, \"https://www.youtube.com/watch?v=1zPXKOBmHGM\"),\n",
    "    # More video can be added here\n",
    "]\n",
    "num_data_per_game = 4000"
   ]
  },
  {
   "cell_type": "code",
   "execution_count": 2,
   "metadata": {},
   "outputs": [
    {
     "name": "stdout",
     "output_type": "stream",
     "text": [
      "== No videos for game VALORANT ==\n",
      "== No videos for game COUNTER_STRIKE_GLOBAL_OFFENSIVE ==\n",
      "== No videos for game COUNTER_STRIKE_2 ==\n",
      "== No videos for game OVERWATCH_2 ==\n",
      "== No videos for game CALL_OF_DUTY_WARZONE ==\n",
      "== No videos for game TOM_CLANCY_RAINBOW_SIX_SIEGE ==\n",
      "== No videos for game APEX_LEGENDS ==\n",
      "== No videos for game ESCAPE_FROM_TARKOV ==\n",
      "== No videos for game RUST ==\n",
      "== No videos for game PUBG_BATTLEGROUNDS ==\n",
      "== No videos for game OVERWATCH ==\n",
      "== Downloading 2 videos for game CYBERPUNK_2077 ==\n",
      "Skipping hA55WshsKvg as it is already downloaded\n",
      "Skipping lEAJs12_ZfE as it is already downloaded\n"
     ]
    },
    {
     "name": "stderr",
     "output_type": "stream",
     "text": [
      "hA55WshsKvg [2637327/3342144]:  79%|███████▉  | 1617/2050 [2:08:42<34:27,  4.78s/it]  \n",
      "lEAJs12_ZfE [3176870/3177064]: 100%|██████████| 1950/1950 [01:00<00:00, 32.49it/s]\n"
     ]
    },
    {
     "name": "stdout",
     "output_type": "stream",
     "text": [
      "== Downloading 1 videos for game CALL_OF_DUTY_MODERN_WARFARE_II ==\n",
      "Downloading https://youtu.be/_74yzN4lf3w to dataset/raw/CALL_OF_DUTY_MODERN_WARFARE_II/youtube_vid/_74yzN4lf3w.mp4\n",
      "Output file dataset/raw/CALL_OF_DUTY_MODERN_WARFARE_II/youtube_vid/_74yzN4lf3w.mp4 is already exists, skipping...\n"
     ]
    },
    {
     "name": "stderr",
     "output_type": "stream",
     "text": [
      "_74yzN4lf3w [18963/590214]:   3%|▎         | 129/4016 [00:03<01:55, 33.70it/s]\n"
     ]
    },
    {
     "name": "stdout",
     "output_type": "stream",
     "text": [
      "== Downloading 2 videos for game CALL_OF_DUTY_BLACK_OPS_COLD_WAR ==\n",
      "Downloading https://youtu.be/OLhxoncGWDA to dataset/raw/CALL_OF_DUTY_BLACK_OPS_COLD_WAR/youtube_vid/OLhxoncGWDA.mp4\n",
      "Downloading https://youtu.be/gr7RY9-KNJE to dataset/raw/CALL_OF_DUTY_BLACK_OPS_COLD_WAR/youtube_vid/gr7RY9-KNJE.mp4\n",
      " ↳ |████████████████████████████████████████████| 100.0%\r"
     ]
    },
    {
     "name": "stderr",
     "output_type": "stream",
     "text": [
      "OLhxoncGWDA [142128/142158]: 100%|██████████| 3025/3025 [01:23<00:00, 36.17it/s]\n",
      "gr7RY9-KNJE [46577/46585]: 100%|██████████| 992/992 [00:30<00:00, 32.29it/s]\n"
     ]
    },
    {
     "name": "stdout",
     "output_type": "stream",
     "text": [
      "== Downloading 1 videos for game CALL_OF_DUTY_BLACK_OPS_4 ==\n",
      "Downloading https://youtu.be/IGbxaCKykhQ to dataset/raw/CALL_OF_DUTY_BLACK_OPS_4/youtube_vid/IGbxaCKykhQ.mp4\n",
      " ↳ |████████████████████████████████████████████| 100.0%\r"
     ]
    },
    {
     "name": "stderr",
     "output_type": "stream",
     "text": [
      "IGbxaCKykhQ [327402/327442]: 100%|██████████| 4043/4043 [01:58<00:00, 34.24it/s]\n"
     ]
    },
    {
     "name": "stdout",
     "output_type": "stream",
     "text": [
      "== Downloading 1 videos for game DYING_LIGHT_2_STAY_HUMAN ==\n",
      "Downloading https://youtu.be/Ow0xcOL2ErY to dataset/raw/DYING_LIGHT_2_STAY_HUMAN/youtube_vid/Ow0xcOL2ErY.mp4\n",
      " ↳ |████████████████████████████████████████████| 100.0%\r"
     ]
    },
    {
     "name": "stderr",
     "output_type": "stream",
     "text": [
      "Ow0xcOL2ErY [1505880/1506111]: 100%|██████████| 4006/4006 [01:58<00:00, 33.92it/s]\n"
     ]
    },
    {
     "name": "stdout",
     "output_type": "stream",
     "text": [
      "== Downloading 1 videos for game DESTINY_2 ==\n",
      "Downloading https://youtu.be/rRxQA1jsK2g to dataset/raw/DESTINY_2/youtube_vid/rRxQA1jsK2g.mp4\n",
      " ↳ |████████████████████████████████████████████| 100.0%\r"
     ]
    },
    {
     "name": "stderr",
     "output_type": "stream",
     "text": [
      "rRxQA1jsK2g [163560/163582]: 100%|██████████| 4090/4090 [01:33<00:00, 43.70it/s]\n"
     ]
    },
    {
     "name": "stdout",
     "output_type": "stream",
     "text": [
      "== Downloading 1 videos for game CALL_OF_DUTY_MODERN_WARFARE_III ==\n",
      "Downloading https://youtu.be/MBtlU-yt6ZQ to dataset/raw/CALL_OF_DUTY_MODERN_WARFARE_III/youtube_vid/MBtlU-yt6ZQ.mp4\n",
      " ↳ |████████████████████████████████████████████| 100.0%\r"
     ]
    },
    {
     "name": "stderr",
     "output_type": "stream",
     "text": [
      "MBtlU-yt6ZQ [390231/390256]: 100%|██████████| 4024/4024 [01:32<00:00, 43.59it/s]\n"
     ]
    },
    {
     "name": "stdout",
     "output_type": "stream",
     "text": [
      "== Downloading 1 videos for game FALLOUT_4 ==\n",
      "Downloading https://youtu.be/EgbJEC_RLow to dataset/raw/FALLOUT_4/youtube_vid/EgbJEC_RLow.mp4\n",
      " ↳ |████████████████████████████████████████████| 100.0%\r"
     ]
    },
    {
     "name": "stderr",
     "output_type": "stream",
     "text": [
      "EgbJEC_RLow [1654891/1654999]: 100%|██████████| 4008/4008 [01:27<00:00, 45.84it/s]\n"
     ]
    },
    {
     "name": "stdout",
     "output_type": "stream",
     "text": [
      "== Downloading 1 videos for game HALO_INFINITE ==\n",
      "Downloading https://youtu.be/fEyuABQ9vFA to dataset/raw/HALO_INFINITE/youtube_vid/fEyuABQ9vFA.mp4\n",
      " ↳ |████████████████████████████████████████████| 100.0%\r"
     ]
    },
    {
     "name": "stderr",
     "output_type": "stream",
     "text": [
      "fEyuABQ9vFA [111105/111117]: 100%|██████████| 4116/4116 [01:32<00:00, 44.39it/s]\n"
     ]
    },
    {
     "name": "stdout",
     "output_type": "stream",
     "text": [
      "== Downloading 2 videos for game TEAM_FORTRESS_2 ==\n",
      "Downloading https://youtu.be/7wjs0Q3FLhU to dataset/raw/TEAM_FORTRESS_2/youtube_vid/7wjs0Q3FLhU.mp4\n",
      "Downloading https://youtu.be/u6QYRtc5P6w to dataset/raw/TEAM_FORTRESS_2/youtube_vid/u6QYRtc5P6w.mp4\n",
      " ↳ |████████████████████████████████████████████| 100.0%\r"
     ]
    },
    {
     "name": "stderr",
     "output_type": "stream",
     "text": [
      "7wjs0Q3FLhU [125708/125724]: 100%|██████████| 2858/2858 [01:03<00:00, 44.94it/s]\n",
      "u6QYRtc5P6w [50644/50657]: 100%|██████████| 1152/1152 [00:28<00:00, 40.27it/s]\n"
     ]
    },
    {
     "name": "stdout",
     "output_type": "stream",
     "text": [
      "== Downloading 1 videos for game PAYDAY_2 ==\n",
      "Downloading https://youtu.be/lQ3oo4d7J0M to dataset/raw/PAYDAY_2/youtube_vid/lQ3oo4d7J0M.mp4\n",
      " ↳ |████████████████████████████████████████████| 100.0%\r"
     ]
    },
    {
     "name": "stderr",
     "output_type": "stream",
     "text": [
      "lQ3oo4d7J0M [1294261/1294507]: 100%|██████████| 4008/4008 [01:36<00:00, 41.73it/s]\n"
     ]
    },
    {
     "name": "stdout",
     "output_type": "stream",
     "text": [
      "== Downloading 1 videos for game LEFT_4_DEAD_2 ==\n",
      "Downloading https://youtu.be/Psjq5teBvDk to dataset/raw/LEFT_4_DEAD_2/youtube_vid/Psjq5teBvDk.mp4\n",
      " ↳ |████████████████████████████████████████████| 100.0%\r"
     ]
    },
    {
     "name": "stderr",
     "output_type": "stream",
     "text": [
      "Psjq5teBvDk [964964/965054]: 100%|██████████| 4005/4005 [01:38<00:00, 40.72it/s]\n"
     ]
    },
    {
     "name": "stdout",
     "output_type": "stream",
     "text": [
      "== Downloading 1 videos for game BATTLEFIELD_2042 ==\n",
      "Downloading https://youtu.be/YgtPDQxClNc to dataset/raw/BATTLEFIELD_2042/youtube_vid/YgtPDQxClNc.mp4\n",
      " ↳ |████████████████████████████████████████████| 100.0%\r"
     ]
    },
    {
     "name": "stderr",
     "output_type": "stream",
     "text": [
      "YgtPDQxClNc [333909/333982]: 100%|██████████| 4024/4024 [01:34<00:00, 42.70it/s]\n"
     ]
    },
    {
     "name": "stdout",
     "output_type": "stream",
     "text": [
      "== Downloading 1 videos for game BORDERLANDS_2 ==\n",
      "Downloading https://youtu.be/ggqgIO4De3Y to dataset/raw/BORDERLANDS_2/youtube_vid/ggqgIO4De3Y.mp4\n",
      " ↳ |████████████████████████████████████████████| 100.0%\r"
     ]
    },
    {
     "name": "stderr",
     "output_type": "stream",
     "text": [
      "ggqgIO4De3Y [415605/415702]: 100%|██████████| 4036/4036 [01:42<00:00, 39.56it/s]\n"
     ]
    },
    {
     "name": "stdout",
     "output_type": "stream",
     "text": [
      "== Downloading 2 videos for game BATTLEFIELD_V ==\n",
      "Downloading https://youtu.be/QgKkQ8ToRpM to dataset/raw/BATTLEFIELD_V/youtube_vid/QgKkQ8ToRpM.mp4\n",
      "Downloading https://youtu.be/kZZos0z-yCU to dataset/raw/BATTLEFIELD_V/youtube_vid/kZZos0z-yCU.mp4\n",
      " ↳ |████████████████████████████████████████████| 100.0%\r"
     ]
    },
    {
     "name": "stderr",
     "output_type": "stream",
     "text": [
      "QgKkQ8ToRpM [103488/103490]: 100%|██████████| 2465/2465 [00:56<00:00, 43.29it/s]\n",
      "kZZos0z-yCU [67158/67178]: 100%|██████████| 1600/1600 [00:39<00:00, 40.23it/s]\n"
     ]
    },
    {
     "name": "stdout",
     "output_type": "stream",
     "text": [
      "== Downloading 2 videos for game TITANFALL_2 ==\n",
      "Downloading https://youtu.be/GlSL0wfCBQM to dataset/raw/TITANFALL_2/youtube_vid/GlSL0wfCBQM.mp4\n",
      "Downloading https://youtu.be/DLXwAs4HbmQ to dataset/raw/TITANFALL_2/youtube_vid/DLXwAs4HbmQ.mp4\n",
      " ↳ |████████████████████████████████████████████| 100.0%\r"
     ]
    },
    {
     "name": "stderr",
     "output_type": "stream",
     "text": [
      "GlSL0wfCBQM [44333/44356]: 100%|██████████| 1032/1032 [00:24<00:00, 42.70it/s]\n",
      "DLXwAs4HbmQ [128226/128247]: 100%|██████████| 2983/2983 [01:14<00:00, 39.78it/s]\n"
     ]
    },
    {
     "name": "stdout",
     "output_type": "stream",
     "text": [
      "== Downloading 1 videos for game DOOM_ETERNAL ==\n",
      "Downloading https://youtu.be/3CWzCwCmHho to dataset/raw/DOOM_ETERNAL/youtube_vid/3CWzCwCmHho.mp4\n",
      " ↳ |████████████████████████████████████████████| 100.0%\r"
     ]
    },
    {
     "name": "stderr",
     "output_type": "stream",
     "text": [
      "3CWzCwCmHho [957673/957886]: 100%|██████████| 4008/4008 [01:35<00:00, 41.87it/s]\n"
     ]
    },
    {
     "name": "stdout",
     "output_type": "stream",
     "text": [
      "== Downloading 1 videos for game HALF_LIFE_2 ==\n",
      "Downloading https://youtu.be/OL8HtZ4iSS0 to dataset/raw/HALF_LIFE_2/youtube_vid/OL8HtZ4iSS0.mp4\n",
      " ↳ |████████████████████████████████████████████| 100.0%\r"
     ]
    },
    {
     "name": "stderr",
     "output_type": "stream",
     "text": [
      "OL8HtZ4iSS0 [864432/864617]: 100%|██████████| 4003/4003 [01:29<00:00, 44.50it/s]\n"
     ]
    },
    {
     "name": "stdout",
     "output_type": "stream",
     "text": [
      "== Downloading 1 videos for game METRO_EXODUS ==\n",
      "Downloading https://youtu.be/1zPXKOBmHGM to dataset/raw/METRO_EXODUS/youtube_vid/1zPXKOBmHGM.mp4\n",
      " ↳ |████████████████████████████████████████████| 100.0%\r"
     ]
    },
    {
     "name": "stderr",
     "output_type": "stream",
     "text": [
      "1zPXKOBmHGM [258496/258507]: 100%|██████████| 4040/4040 [01:39<00:00, 40.64it/s]\n"
     ]
    }
   ],
   "source": [
    "from utils import downloader, extractor\n",
    "from pathlib import Path\n",
    "from pytube import YouTube\n",
    "\n",
    "problem_video = []\n",
    "\n",
    "for game in G:\n",
    "    # get all youtube video for this game\n",
    "    youtube_videos = [x[1] for x in youtube_videos_to_download if x[0] == game]\n",
    "\n",
    "    if len(youtube_videos) == 0:\n",
    "        print(f\"== No videos for game {game.name} ==\")\n",
    "        continue\n",
    "    else:\n",
    "        print(f\"== Downloading {len(youtube_videos)} videos for game {game.name} ==\")\n",
    "\n",
    "    # Download all video\n",
    "    combined_length = 0\n",
    "    video_length = []\n",
    "    for url in youtube_videos:\n",
    "        yt = YouTube(url)\n",
    "        youtube_id = yt.video_id\n",
    "        \n",
    "        # print(f\"Downloading video {youtube_id} for game {game.name}\")\n",
    "        if Path(f\"dataset/raw/{game.name}/frames/{youtube_id}\").exists():\n",
    "            print(f\"Skipping {youtube_id} as it is already downloaded\")\n",
    "            combined_length += yt.length\n",
    "            video_length.append(yt.length)\n",
    "            continue\n",
    "        try:\n",
    "            downloader.download_youtube_video(\n",
    "                f\"https://youtu.be/{youtube_id}\",\n",
    "                f\"dataset/raw/{game.name}/youtube_vid/{youtube_id}.mp4\",\n",
    "                show_progress=True,\n",
    "            )\n",
    "            combined_length += yt.length\n",
    "            video_length.append(yt.length)\n",
    "        except Exception as e:\n",
    "            print(f\"Failed to download {youtube_id}: {e}\")\n",
    "            problem_video.append((game, youtube_id))\n",
    "            youtube_videos.remove(url)\n",
    "            \n",
    "\n",
    "    # Calculate number of frames to extract per video\n",
    "    num_frames_per_video = [\n",
    "        video_length[i] * num_data_per_game // combined_length\n",
    "        for i in range(len(video_length))\n",
    "    ]\n",
    "    # print(num_frames_per_video)\n",
    "    if sum(num_frames_per_video) != num_data_per_game:\n",
    "        # Add/Remove the remaining frames to the last video\n",
    "        num_frames_per_video[-1] += num_data_per_game - sum(num_frames_per_video)\n",
    "    # print(num_frames_per_video)\n",
    "\n",
    "    # Extract frames\n",
    "    # print(video_length, combined_length)\n",
    "    for i, url in enumerate(youtube_videos):\n",
    "        youtube_id = YouTube(url).video_id\n",
    "        frame_n = num_frames_per_video[i]\n",
    "\n",
    "        # print(f\"Extracting {frame_n} frames from {youtube_id} for game {game.name}\")\n",
    "        n_extracted, n_total_frames, n_interval = extractor.extract_n_frames(\n",
    "            f\"dataset/raw/{game.name}/youtube_vid/{youtube_id}.mp4\",\n",
    "            f\"dataset/raw/{game.name}/frames/{youtube_id}/\",\n",
    "            n=frame_n,\n",
    "        )\n",
    "        # print(f\"Extracted {frame_n} frames from {youtube_id} for game {game.name}\")\n",
    "        # print(f\"Extracted {n_extracted} frames from {youtube_id} for game {game.name} ({n_total_frames} frames, interval={n_interval})\")"
   ]
  },
  {
   "cell_type": "code",
   "execution_count": null,
   "metadata": {},
   "outputs": [],
   "source": []
  }
 ],
 "metadata": {
  "kernelspec": {
   "display_name": "taiko-ai",
   "language": "python",
   "name": "python3"
  },
  "language_info": {
   "codemirror_mode": {
    "name": "ipython",
    "version": 3
   },
   "file_extension": ".py",
   "mimetype": "text/x-python",
   "name": "python",
   "nbconvert_exporter": "python",
   "pygments_lexer": "ipython3",
   "version": "3.11.7"
  }
 },
 "nbformat": 4,
 "nbformat_minor": 2
}
